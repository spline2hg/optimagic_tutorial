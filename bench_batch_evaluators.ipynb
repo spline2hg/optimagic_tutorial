{
  "nbformat": 4,
  "nbformat_minor": 0,
  "metadata": {
    "colab": {
      "provenance": []
    },
    "kernelspec": {
      "name": "python3",
      "display_name": "Python 3"
    },
    "language_info": {
      "name": "python"
    }
  },
  "cells": [
    {
      "cell_type": "code",
      "execution_count": 1,
      "metadata": {
        "colab": {
          "base_uri": "https://localhost:8080/"
        },
        "id": "eKkpInom2nqa",
        "outputId": "6ac4f2f4-ac05-4b5b-90eb-3873b6e4ec1b"
      },
      "outputs": [
        {
          "output_type": "stream",
          "name": "stdout",
          "text": [
            "Cloning into 'optimagic_'...\n",
            "remote: Enumerating objects: 9303, done.\u001b[K\n",
            "remote: Counting objects: 100% (1474/1474), done.\u001b[K\n",
            "remote: Compressing objects: 100% (967/967), done.\u001b[K\n",
            "remote: Total 9303 (delta 1037), reused 515 (delta 507), pack-reused 7829 (from 3)\u001b[K\n",
            "Receiving objects: 100% (9303/9303), 29.39 MiB | 11.68 MiB/s, done.\n",
            "Resolving deltas: 100% (6463/6463), done.\n"
          ]
        }
      ],
      "source": [
        "!git clone --branch threading-batch-evaluator https://github.com/spline2hg/optimagic_.git"
      ]
    },
    {
      "cell_type": "code",
      "source": [
        "!ls"
      ],
      "metadata": {
        "colab": {
          "base_uri": "https://localhost:8080/"
        },
        "id": "pLoeKw8V3SHJ",
        "outputId": "e036a4b3-83a2-4c33-a38c-7990c2a05b10"
      },
      "execution_count": 2,
      "outputs": [
        {
          "output_type": "stream",
          "name": "stdout",
          "text": [
            "optimagic_  sample_data\n"
          ]
        }
      ]
    },
    {
      "cell_type": "code",
      "source": [
        "%cd optimagic_"
      ],
      "metadata": {
        "colab": {
          "base_uri": "https://localhost:8080/"
        },
        "id": "lUTAK9By3I2n",
        "outputId": "31bd0c9b-2c5e-4e3f-d63a-a297aab84723"
      },
      "execution_count": 3,
      "outputs": [
        {
          "output_type": "stream",
          "name": "stdout",
          "text": [
            "/content/optimagic_\n"
          ]
        }
      ]
    },
    {
      "cell_type": "code",
      "source": [
        "!pip install -e ."
      ],
      "metadata": {
        "colab": {
          "base_uri": "https://localhost:8080/"
        },
        "id": "LfMEcpth3h5J",
        "outputId": "b68789ba-3d20-48d4-cf1a-a025b6ecf160"
      },
      "execution_count": 4,
      "outputs": [
        {
          "output_type": "stream",
          "name": "stdout",
          "text": [
            "Obtaining file:///content/optimagic_\n",
            "  Installing build dependencies ... \u001b[?25l\u001b[?25hdone\n",
            "  Checking if build backend supports build_editable ... \u001b[?25l\u001b[?25hdone\n",
            "  Getting requirements to build editable ... \u001b[?25l\u001b[?25hdone\n",
            "  Installing backend dependencies ... \u001b[?25l\u001b[?25hdone\n",
            "  Preparing editable metadata (pyproject.toml) ... \u001b[?25l\u001b[?25hdone\n",
            "Requirement already satisfied: annotated-types in /usr/local/lib/python3.11/dist-packages (from optimagic==0.5.2.dev5+gdde69ac) (0.7.0)\n",
            "Requirement already satisfied: cloudpickle in /usr/local/lib/python3.11/dist-packages (from optimagic==0.5.2.dev5+gdde69ac) (3.1.1)\n",
            "Requirement already satisfied: joblib in /usr/local/lib/python3.11/dist-packages (from optimagic==0.5.2.dev5+gdde69ac) (1.4.2)\n",
            "Requirement already satisfied: numpy in /usr/local/lib/python3.11/dist-packages (from optimagic==0.5.2.dev5+gdde69ac) (1.26.4)\n",
            "Requirement already satisfied: pandas in /usr/local/lib/python3.11/dist-packages (from optimagic==0.5.2.dev5+gdde69ac) (2.2.2)\n",
            "Requirement already satisfied: plotly<6.0.0 in /usr/local/lib/python3.11/dist-packages (from optimagic==0.5.2.dev5+gdde69ac) (5.24.1)\n",
            "Collecting pybaum>=0.1.2 (from optimagic==0.5.2.dev5+gdde69ac)\n",
            "  Downloading pybaum-0.1.3-py3-none-any.whl.metadata (3.8 kB)\n",
            "Requirement already satisfied: scipy>=1.2.1 in /usr/local/lib/python3.11/dist-packages (from optimagic==0.5.2.dev5+gdde69ac) (1.14.1)\n",
            "Requirement already satisfied: sqlalchemy>=1.3 in /usr/local/lib/python3.11/dist-packages (from optimagic==0.5.2.dev5+gdde69ac) (2.0.39)\n",
            "Requirement already satisfied: typing-extensions in /usr/local/lib/python3.11/dist-packages (from optimagic==0.5.2.dev5+gdde69ac) (4.12.2)\n",
            "Requirement already satisfied: tenacity>=6.2.0 in /usr/local/lib/python3.11/dist-packages (from plotly<6.0.0->optimagic==0.5.2.dev5+gdde69ac) (9.0.0)\n",
            "Requirement already satisfied: packaging in /usr/local/lib/python3.11/dist-packages (from plotly<6.0.0->optimagic==0.5.2.dev5+gdde69ac) (24.2)\n",
            "Requirement already satisfied: greenlet!=0.4.17 in /usr/local/lib/python3.11/dist-packages (from sqlalchemy>=1.3->optimagic==0.5.2.dev5+gdde69ac) (3.1.1)\n",
            "Requirement already satisfied: python-dateutil>=2.8.2 in /usr/local/lib/python3.11/dist-packages (from pandas->optimagic==0.5.2.dev5+gdde69ac) (2.8.2)\n",
            "Requirement already satisfied: pytz>=2020.1 in /usr/local/lib/python3.11/dist-packages (from pandas->optimagic==0.5.2.dev5+gdde69ac) (2025.1)\n",
            "Requirement already satisfied: tzdata>=2022.7 in /usr/local/lib/python3.11/dist-packages (from pandas->optimagic==0.5.2.dev5+gdde69ac) (2025.1)\n",
            "Requirement already satisfied: six>=1.5 in /usr/local/lib/python3.11/dist-packages (from python-dateutil>=2.8.2->pandas->optimagic==0.5.2.dev5+gdde69ac) (1.17.0)\n",
            "Downloading pybaum-0.1.3-py3-none-any.whl (10 kB)\n",
            "Building wheels for collected packages: optimagic\n",
            "  Building editable for optimagic (pyproject.toml) ... \u001b[?25l\u001b[?25hdone\n",
            "  Created wheel for optimagic: filename=optimagic-0.5.2.dev5+gdde69ac-py3-none-any.whl size=4093 sha256=cdbe11c16798c11084eb0f1a20641f818ad24852b68fdf67525f97a23c273653\n",
            "  Stored in directory: /tmp/pip-ephem-wheel-cache-lm6t_5wl/wheels/a2/12/1e/8cc0cee7858a725b30d134493c6736f7bccf2268e1e6d53e5e\n",
            "Successfully built optimagic\n",
            "Installing collected packages: pybaum, optimagic\n",
            "Successfully installed optimagic-0.5.2.dev5+gdde69ac pybaum-0.1.3\n"
          ]
        }
      ]
    },
    {
      "cell_type": "code",
      "source": [
        "!pip install pathos"
      ],
      "metadata": {
        "colab": {
          "base_uri": "https://localhost:8080/"
        },
        "id": "XU_NvE_ScOmL",
        "outputId": "8169c7b0-404c-4982-b2f4-485401b80524"
      },
      "execution_count": 5,
      "outputs": [
        {
          "output_type": "stream",
          "name": "stdout",
          "text": [
            "Collecting pathos\n",
            "  Downloading pathos-0.3.3-py3-none-any.whl.metadata (11 kB)\n",
            "Collecting ppft>=1.7.6.9 (from pathos)\n",
            "  Downloading ppft-1.7.6.9-py3-none-any.whl.metadata (12 kB)\n",
            "Collecting dill>=0.3.9 (from pathos)\n",
            "  Downloading dill-0.3.9-py3-none-any.whl.metadata (10 kB)\n",
            "Collecting pox>=0.3.5 (from pathos)\n",
            "  Downloading pox-0.3.5-py3-none-any.whl.metadata (8.0 kB)\n",
            "Collecting multiprocess>=0.70.17 (from pathos)\n",
            "  Downloading multiprocess-0.70.17-py311-none-any.whl.metadata (7.2 kB)\n",
            "Downloading pathos-0.3.3-py3-none-any.whl (82 kB)\n",
            "\u001b[2K   \u001b[90m━━━━━━━━━━━━━━━━━━━━━━━━━━━━━━━━━━━━━━━━\u001b[0m \u001b[32m82.1/82.1 kB\u001b[0m \u001b[31m5.4 MB/s\u001b[0m eta \u001b[36m0:00:00\u001b[0m\n",
            "\u001b[?25hDownloading dill-0.3.9-py3-none-any.whl (119 kB)\n",
            "\u001b[2K   \u001b[90m━━━━━━━━━━━━━━━━━━━━━━━━━━━━━━━━━━━━━━━━\u001b[0m \u001b[32m119.4/119.4 kB\u001b[0m \u001b[31m8.5 MB/s\u001b[0m eta \u001b[36m0:00:00\u001b[0m\n",
            "\u001b[?25hDownloading multiprocess-0.70.17-py311-none-any.whl (144 kB)\n",
            "\u001b[2K   \u001b[90m━━━━━━━━━━━━━━━━━━━━━━━━━━━━━━━━━━━━━━━━\u001b[0m \u001b[32m144.3/144.3 kB\u001b[0m \u001b[31m11.1 MB/s\u001b[0m eta \u001b[36m0:00:00\u001b[0m\n",
            "\u001b[?25hDownloading pox-0.3.5-py3-none-any.whl (29 kB)\n",
            "Downloading ppft-1.7.6.9-py3-none-any.whl (56 kB)\n",
            "\u001b[2K   \u001b[90m━━━━━━━━━━━━━━━━━━━━━━━━━━━━━━━━━━━━━━━━\u001b[0m \u001b[32m56.8/56.8 kB\u001b[0m \u001b[31m3.7 MB/s\u001b[0m eta \u001b[36m0:00:00\u001b[0m\n",
            "\u001b[?25hInstalling collected packages: ppft, pox, dill, multiprocess, pathos\n",
            "Successfully installed dill-0.3.9 multiprocess-0.70.17 pathos-0.3.3 pox-0.3.5 ppft-1.7.6.9\n"
          ]
        }
      ]
    },
    {
      "cell_type": "code",
      "source": [
        "!pip show optimagic"
      ],
      "metadata": {
        "colab": {
          "base_uri": "https://localhost:8080/"
        },
        "id": "5Dz2iFG43mY7",
        "outputId": "ecee3b7f-f78f-4f3a-e19d-3c795e498e2c"
      },
      "execution_count": 6,
      "outputs": [
        {
          "output_type": "stream",
          "name": "stdout",
          "text": [
            "Name: optimagic\n",
            "Version: 0.5.2.dev5+gdde69ac\n",
            "Summary: Tools to solve difficult numerical optimization problems.\n",
            "Home-page: \n",
            "Author: \n",
            "Author-email: Janos Gabler <janos.gabler@gmail.com>\n",
            "License: MIT\n",
            "Location: /usr/local/lib/python3.11/dist-packages\n",
            "Editable project location: /content/optimagic_\n",
            "Requires: annotated-types, cloudpickle, joblib, numpy, pandas, plotly, pybaum, scipy, sqlalchemy, typing-extensions\n",
            "Required-by: \n"
          ]
        }
      ]
    },
    {
      "cell_type": "code",
      "source": [
        "import optimagic.batch_evaluators as be\n",
        "import time\n",
        "\n",
        "# Define a simple function\n",
        "def cube(x):\n",
        "    return x ** 3\n",
        "\n",
        "# Arguments to evaluate\n",
        "args = [(i,) for i in range(1, 100)]\n",
        "\n",
        "# Measure execution time\n",
        "start_time = time.time()\n",
        "\n",
        "# Use joblib batch evaluator\n",
        "results = be.joblib_batch_evaluator(\n",
        "    func=cube,\n",
        "    arguments=args,\n",
        "    n_cores=5,\n",
        "    error_handling=\"raise\",\n",
        "    unpack_symbol=\"*\"\n",
        ")\n",
        "\n",
        "end_time = time.time()\n",
        "execution_time = end_time - start_time\n",
        "\n",
        "print(\"Results:\", results)\n",
        "print(f\"Execution time: {execution_time:.2f} seconds\")"
      ],
      "metadata": {
        "colab": {
          "base_uri": "https://localhost:8080/"
        },
        "id": "PwDS9SUg3pN6",
        "outputId": "80be9914-4023-45ce-c977-c0ff3961050d"
      },
      "execution_count": 2,
      "outputs": [
        {
          "output_type": "stream",
          "name": "stdout",
          "text": [
            "Results: [1, 8, 27, 64, 125, 216, 343, 512, 729, 1000, 1331, 1728, 2197, 2744, 3375, 4096, 4913, 5832, 6859, 8000, 9261, 10648, 12167, 13824, 15625, 17576, 19683, 21952, 24389, 27000, 29791, 32768, 35937, 39304, 42875, 46656, 50653, 54872, 59319, 64000, 68921, 74088, 79507, 85184, 91125, 97336, 103823, 110592, 117649, 125000, 132651, 140608, 148877, 157464, 166375, 175616, 185193, 195112, 205379, 216000, 226981, 238328, 250047, 262144, 274625, 287496, 300763, 314432, 328509, 343000, 357911, 373248, 389017, 405224, 421875, 438976, 456533, 474552, 493039, 512000, 531441, 551368, 571787, 592704, 614125, 636056, 658503, 681472, 704969, 729000, 753571, 778688, 804357, 830584, 857375, 884736, 912673, 941192, 970299]\n",
            "Execution time: 0.05 seconds\n"
          ]
        }
      ]
    },
    {
      "cell_type": "code",
      "source": [
        "import optimagic.batch_evaluators as be\n",
        "import time\n",
        "\n",
        "# Define a simple function\n",
        "def cube(x):\n",
        "    return x ** 3\n",
        "\n",
        "# Arguments to evaluate\n",
        "args = [(i,) for i in range(1, 100)]  # 10 arguments, each in a tuple\n",
        "\n",
        "# Measure execution time\n",
        "start_time = time.time()\n",
        "\n",
        "# Use joblib batch evaluator\n",
        "results = be.pathos_mp_batch_evaluator(\n",
        "    func=cube,\n",
        "    arguments=args,\n",
        "    n_cores=5,\n",
        "    error_handling=\"raise\",\n",
        "    unpack_symbol=\"*\"\n",
        ")\n",
        "\n",
        "end_time = time.time()\n",
        "execution_time = end_time - start_time\n",
        "\n",
        "print(\"Results:\", results)\n",
        "print(f\"Execution time: {execution_time:.2f} seconds\")"
      ],
      "metadata": {
        "id": "uYjGa9oq-6lL",
        "colab": {
          "base_uri": "https://localhost:8080/"
        },
        "outputId": "1ed399eb-6fc3-4417-cbda-528f90082ec9"
      },
      "execution_count": 3,
      "outputs": [
        {
          "output_type": "stream",
          "name": "stdout",
          "text": [
            "Results: [1, 8, 27, 64, 125, 216, 343, 512, 729, 1000, 1331, 1728, 2197, 2744, 3375, 4096, 4913, 5832, 6859, 8000, 9261, 10648, 12167, 13824, 15625, 17576, 19683, 21952, 24389, 27000, 29791, 32768, 35937, 39304, 42875, 46656, 50653, 54872, 59319, 64000, 68921, 74088, 79507, 85184, 91125, 97336, 103823, 110592, 117649, 125000, 132651, 140608, 148877, 157464, 166375, 175616, 185193, 195112, 205379, 216000, 226981, 238328, 250047, 262144, 274625, 287496, 300763, 314432, 328509, 343000, 357911, 373248, 389017, 405224, 421875, 438976, 456533, 474552, 493039, 512000, 531441, 551368, 571787, 592704, 614125, 636056, 658503, 681472, 704969, 729000, 753571, 778688, 804357, 830584, 857375, 884736, 912673, 941192, 970299]\n",
            "Execution time: 0.13 seconds\n"
          ]
        }
      ]
    },
    {
      "cell_type": "code",
      "source": [
        "# Define a simple function\n",
        "def cube(x):\n",
        "    return x ** 3\n",
        "\n",
        "# Arguments to evaluate\n",
        "args = [(i,) for i in range(1, 100)]\n",
        "\n",
        "# Measure execution time\n",
        "start_time = time.time()\n",
        "\n",
        "# Use threading batch evaluator\n",
        "results = be.threading_batch_evaluator(\n",
        "    func=cube,\n",
        "    arguments=args,\n",
        "    n_cores=5,\n",
        "    error_handling=\"raise\",\n",
        "    unpack_symbol=\"*\"\n",
        ")\n",
        "\n",
        "end_time = time.time()\n",
        "execution_time = end_time - start_time\n",
        "\n",
        "print(\"Results:\", results)\n",
        "print(f\"Execution time: {execution_time:.2f} seconds\")\n"
      ],
      "metadata": {
        "id": "GOnbUykP4qUM",
        "colab": {
          "base_uri": "https://localhost:8080/"
        },
        "outputId": "0114c1fb-c145-45b1-d328-8ba68038c9d7"
      },
      "execution_count": 4,
      "outputs": [
        {
          "output_type": "stream",
          "name": "stdout",
          "text": [
            "Results: [1, 8, 27, 64, 125, 216, 343, 512, 729, 1000, 1331, 1728, 2197, 2744, 3375, 4096, 4913, 5832, 6859, 8000, 9261, 10648, 12167, 13824, 15625, 17576, 19683, 21952, 24389, 27000, 29791, 32768, 35937, 39304, 42875, 46656, 50653, 54872, 59319, 64000, 68921, 74088, 79507, 85184, 91125, 97336, 103823, 110592, 117649, 125000, 132651, 140608, 148877, 157464, 166375, 175616, 185193, 195112, 205379, 216000, 226981, 238328, 250047, 262144, 274625, 287496, 300763, 314432, 328509, 343000, 357911, 373248, 389017, 405224, 421875, 438976, 456533, 474552, 493039, 512000, 531441, 551368, 571787, 592704, 614125, 636056, 658503, 681472, 704969, 729000, 753571, 778688, 804357, 830584, 857375, 884736, 912673, 941192, 970299]\n",
            "Execution time: 0.02 seconds\n"
          ]
        }
      ]
    }
  ]
}